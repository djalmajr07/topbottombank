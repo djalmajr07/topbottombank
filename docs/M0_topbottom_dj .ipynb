{
 "cells": [
  {
   "cell_type": "markdown",
   "metadata": {},
   "source": [
    "# TOP BOTTOM - CHURN PROJECT"
   ]
  },
  {
   "cell_type": "markdown",
   "metadata": {},
   "source": [
    "# Ciclo 00 - Metodo IOT"
   ]
  },
  {
   "cell_type": "markdown",
   "metadata": {},
   "source": [
    "## Input"
   ]
  },
  {
   "cell_type": "markdown",
   "metadata": {},
   "source": [
    "### O problema de negócio"
   ]
  },
  {
   "cell_type": "markdown",
   "metadata": {},
   "source": [
    "1. Recorrencia de compra baixa.\n",
    "2. Clientes deixando de comprar apos determinado periodo."
   ]
  },
  {
   "cell_type": "markdown",
   "metadata": {},
   "source": [
    "## Output"
   ]
  },
  {
   "cell_type": "markdown",
   "metadata": {},
   "source": [
    "1. Qual a taxa de Churn atual da empresa?\n",
    "2. Como a taxa de churn varia por mes?\n",
    "3. Qual retorno esperado em termos de faturamento, se a empresa utilizar seu modelo para evitar o churn?\n",
    "4. Qual a performance do modelo em classificar os clientes como churns?\n",
    "\n"
   ]
  },
  {
   "cell_type": "markdown",
   "metadata": {},
   "source": [
    "## Tasks\n",
    "\n",
    "1. Qual a taxa de Churn atual da empresa?\n",
    "    - Anual, semestral ou mensal.\n",
    "    - Se 1 de cada 20 clientes cancelam seu produto todo mês, isso representa que a taxa de churn para seu produto será de 5%.\n",
    "    - Encontrar churn rate e fazer o churn mensal.\n",
    "\n",
    "2. Como a taxa de churn varia por mes?\n",
    "    - Calcular o churn mensal.\n",
    "    - MRR CHURN = SUM (MRR dos clientes cancelados)\n",
    "\n",
    "3.Qual retorno esperado em termos de faturamento, se a empresa utilizar seu modelo para evitar o churn?\n",
    " - se esse cliente for recuperado quanto ele me traz baseado no salario\n",
    "     - threshold\n",
    "     - lista de pessoas que vao entrar em churn ordenada\n",
    "     - quais pessoas recuperar\n",
    "     - LTV\n",
    "     - curva Roc (live 21)\n",
    "\n",
    "4. Qual a performance do modelo em classificar os clientes como churns?\n",
    "    - Mostrar Recall, Precision e Acc.\n",
    "    - Procurar diferentes metricas de reporte.\n",
    "    - fazer o score\n",
    "\n"
   ]
  },
  {
   "cell_type": "markdown",
   "metadata": {},
   "source": [
    "## Etapa 01 - Descrição dos dados: \n",
    "   - O objetivo é utilizar métricas estatísticas para identificar outliers no escopo do negócio."
   ]
  },
  {
   "cell_type": "markdown",
   "metadata": {},
   "source": [
    "## Etapa 02 - Feature Engineering:\n",
    "   - Derivar novos atributos com base nas variáveis ​​originais para melhor descrever o fenômeno a ser modelado."
   ]
  },
  {
   "cell_type": "markdown",
   "metadata": {},
   "source": [
    "## Etapa 03 - Filtragem de Dados: \n",
    "- Filtrar as linhas e selecione as colunas que não contenham informações para modelagem ou que não correspondam ao escopo do negócio."
   ]
  },
  {
   "cell_type": "markdown",
   "metadata": {},
   "source": [
    "## Etapa 04 - Análise Exploratória de Dados: \n",
    "- Explorar os dados para encontrar insights e entender melhor o impacto das variáveis ​​no aprendizado do modelo."
   ]
  },
  {
   "cell_type": "markdown",
   "metadata": {},
   "source": [
    "## Etapa 05 - Preparação de dados: \n",
    "- Preparar os dados para que os modelos de aprendizado de máquina possam aprender comportamentos específicos."
   ]
  },
  {
   "cell_type": "markdown",
   "metadata": {},
   "source": [
    "## Etapa 06 - Seleção de atributos: \n",
    "- Seleção dos atributos mais significativos para treinar o modelo."
   ]
  },
  {
   "cell_type": "markdown",
   "metadata": {},
   "source": [
    "## Etapa 07 - Machine Learning Modeling: \n",
    "-Treinamento do modelo de aprendizado de máquina"
   ]
  },
  {
   "cell_type": "markdown",
   "metadata": {},
   "source": [
    "## Passo 08 -  Hyperparameter Fine Tunning:\n",
    "- Escolha os melhores valores para cada um dos parâmetros do modelo selecionado no passo anterior."
   ]
  },
  {
   "cell_type": "markdown",
   "metadata": {},
   "source": [
    "## Etapa 09 - Converter o desempenho do modelo em valores de negócios: \n",
    "- Converter o desempenho do modelo em resultado de negócios."
   ]
  },
  {
   "cell_type": "markdown",
   "metadata": {},
   "source": [
    "## Etapa 10 - Implantar o modelo na produção: \n",
    "- Publique o modelo em um ambiente de nuvem para que outras pessoas ou serviços possam usar os resultados para melhorar a decisão de negócios."
   ]
  }
 ],
 "metadata": {
  "interpreter": {
   "hash": "9deee2dbaab05987cdaebe7b960089971e10dbcbdab4b803f3571a74e8bc755d"
  },
  "kernelspec": {
   "display_name": "Python 3.9.7 ('base')",
   "language": "python",
   "name": "python3"
  },
  "language_info": {
   "codemirror_mode": {
    "name": "ipython",
    "version": 3
   },
   "file_extension": ".py",
   "mimetype": "text/x-python",
   "name": "python",
   "nbconvert_exporter": "python",
   "pygments_lexer": "ipython3",
   "version": "3.10.0"
  },
  "orig_nbformat": 4
 },
 "nbformat": 4,
 "nbformat_minor": 2
}
