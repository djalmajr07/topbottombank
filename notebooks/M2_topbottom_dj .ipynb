{
 "cells": [
  {
   "cell_type": "markdown",
   "metadata": {},
   "source": [
    "# TOP BOTTOM - CHURN PROJECT"
   ]
  },
  {
   "cell_type": "markdown",
   "metadata": {},
   "source": [
    "# Ciclo 00 - Metodo IOT"
   ]
  },
  {
   "cell_type": "markdown",
   "metadata": {},
   "source": [
    "## Input"
   ]
  },
  {
   "cell_type": "markdown",
   "metadata": {},
   "source": [
    "### O problema de negócio"
   ]
  },
  {
   "cell_type": "markdown",
   "metadata": {},
   "source": [
    "1. Recorrencia de compra baixa.\n",
    "2. Clientes deixando de comprar apos determinado periodo."
   ]
  },
  {
   "cell_type": "markdown",
   "metadata": {},
   "source": [
    "## Output"
   ]
  },
  {
   "cell_type": "markdown",
   "metadata": {},
   "source": [
    "1. Qual a taxa de Churn atual da empresa?\n",
    "2. Como a taxa de churn varia por mes?\n",
    "3. Qual retorno esperado em termos de faturamento, se a empresa utilizar seu modelo para evitar o churn?\n",
    "4. Qual a performance do modelo em classificar os clientes como churns?\n",
    "\n"
   ]
  },
  {
   "cell_type": "markdown",
   "metadata": {},
   "source": [
    "## Tasks\n",
    "\n",
    "1. Qual a taxa de Churn atual da empresa?\n",
    "    - Anual, semestral ou mensal.\n",
    "    - Se 1 de cada 20 clientes cancelam seu produto todo mês, isso representa que a taxa de churn para seu produto será de 5%.\n",
    "    - Encontrar churn rate e fazer o churn mensal.\n",
    "\n",
    "2. Como a taxa de churn varia por mes?\n",
    "    - Calcular o churn mensal.\n",
    "    - MRR CHURN = SUM (MRR dos clientes cancelados)\n",
    "\n",
    "3.Qual retorno esperado em termos de faturamento, se a empresa utilizar seu modelo para evitar o churn?\n",
    " - se esse cliente for recuperado quanto ele me traz baseado no salario\n",
    "     - threshold\n",
    "     - lista de pessoas que vao entrar em churn ordenada\n",
    "     - quais pessoas recuperar\n",
    "     - LTV\n",
    "     - curva Roc (live 21)\n",
    "\n",
    "4. Qual a performance do modelo em classificar os clientes como churns?\n",
    "    - Mostrar Recall, Precision e Acc.\n",
    "    - Procurar diferentes metricas de reporte.\n",
    "    - fazer o score\n",
    "\n"
   ]
  },
  {
   "cell_type": "markdown",
   "metadata": {},
   "source": [
    "## Etapa 01 - Descrição dos dados: \n",
    "   - O objetivo é utilizar métricas estatísticas para identificar outliers no escopo do negócio."
   ]
  },
  {
   "cell_type": "markdown",
   "metadata": {},
   "source": [
    "## Etapa 02 - Feature Engineering:\n",
    "   - Derivar novos atributos com base nas variáveis ​​originais para melhor descrever o fenômeno a ser modelado."
   ]
  },
  {
   "cell_type": "markdown",
   "metadata": {},
   "source": [
    "## Etapa 03 - Filtragem de Dados: \n",
    "- Filtrar as linhas e selecione as colunas que não contenham informações para modelagem ou que não correspondam ao escopo do negócio."
   ]
  },
  {
   "cell_type": "markdown",
   "metadata": {},
   "source": [
    "## Etapa 04 - Análise Exploratória de Dados: \n",
    "- Explorar os dados para encontrar insights e entender melhor o impacto das variáveis ​​no aprendizado do modelo."
   ]
  },
  {
   "cell_type": "markdown",
   "metadata": {},
   "source": [
    "## Etapa 05 - Preparação de dados: \n",
    "- Preparar os dados para que os modelos de aprendizado de máquina possam aprender comportamentos específicos."
   ]
  },
  {
   "cell_type": "markdown",
   "metadata": {},
   "source": [
    "## Etapa 06 - Seleção de atributos: \n",
    "- Seleção dos atributos mais significativos para treinar o modelo."
   ]
  },
  {
   "cell_type": "markdown",
   "metadata": {},
   "source": [
    "## Etapa 07 - Machine Learning Modeling: \n",
    "-Treinamento do modelo de aprendizado de máquina"
   ]
  },
  {
   "cell_type": "markdown",
   "metadata": {},
   "source": [
    "## Passo 08 -  Hyperparameter Fine Tunning:\n",
    "- Escolha os melhores valores para cada um dos parâmetros do modelo selecionado no passo anterior."
   ]
  },
  {
   "cell_type": "markdown",
   "metadata": {},
   "source": [
    "## Etapa 09 - Converter o desempenho do modelo em valores de negócios: \n",
    "- Converter o desempenho do modelo em resultado de negócios."
   ]
  },
  {
   "cell_type": "markdown",
   "metadata": {},
   "source": [
    "## Etapa 10 - Implantar o modelo na produção: \n",
    "- Publique o modelo em um ambiente de nuvem para que outras pessoas ou serviços possam usar os resultados para melhorar a decisão de negócios."
   ]
  },
  {
   "cell_type": "markdown",
   "id": "be07bf4b",
   "metadata": {},
   "source": [
    "# 0.0 IMPORTS"
   ]
  },
  {
   "cell_type": "code",
   "execution_count": 42,
   "id": "0e651dbc",
   "metadata": {
    "ExecuteTime": {
     "end_time": "2021-08-09T22:52:13.348954Z",
     "start_time": "2021-08-09T22:52:06.557666Z"
    },
    "hide_input": false
   },
   "outputs": [],
   "source": [
    "import shap \n",
    "import pickle\n",
    "import warnings\n",
    "import inflection\n",
    "\n",
    "import pandas                  as pd\n",
    "import numpy                   as np\n",
    "import seaborn                 as sns\n",
    "import matplotlib.pyplot       as plt\n",
    "\n",
    "from yellowbrick.classifier    import ConfusionMatrix, ROCAUC\n",
    "from IPython.core.display      import HTML\n",
    "from sklearn                   import preprocessing\n",
    "from sklearn.preprocessing     import RobustScaler,StandardScaler, MinMaxScaler\n",
    "from sklearn                   import model_selection    as ms\n",
    "from sklearn.ensemble          import RandomForestRegressor\n",
    "from sklearn.linear_model      import LogisticRegression\n",
    "\n",
    "from boruta                    import BorutaPy\n",
    "from BorutaShap                import BorutaShap\n",
    "from scipy.stats               import chi2_contingency,shapiro\n",
    "from sklearn.metrics           import accuracy_score, classification_report\n",
    "\n",
    "\n",
    "from imblearn                  import under_sampling as us\n",
    "from imblearn                  import over_sampling  as oversamp\n",
    "from imblearn                  import combine        as c\n",
    "from imblearn.over_sampling    import KMeansSMOTE as ksmt\n",
    "from catboost                  import CatBoostClassifier, Pool\n",
    "\n",
    "\n",
    "\n",
    "\n",
    "from sklearn.tree import DecisionTreeClassifier\n",
    "from sklearn.ensemble import RandomForestClassifier\n",
    "from sklearn.svm import SVC\n",
    "from sklearn                   import neighbors          as nh\n",
    "from sklearn.naive_bayes import GaussianNB\n",
    "import xgboost                 as xgb\n",
    "from yellowbrick.contrib.wrapper import wrap\n",
    "import scikitplot              as skplt\n",
    "\n"
   ]
  },
  {
   "cell_type": "markdown",
   "id": "103e2533",
   "metadata": {},
   "source": [
    "##  Helper Functions"
   ]
  },
  {
   "cell_type": "code",
   "execution_count": 43,
   "id": "01760d06",
   "metadata": {
    "ExecuteTime": {
     "end_time": "2021-08-09T22:52:13.490051Z",
     "start_time": "2021-08-09T22:52:13.348954Z"
    }
   },
   "outputs": [
    {
     "name": "stdout",
     "output_type": "stream",
     "text": [
      "%pylab is deprecated, use %matplotlib inline and import the required libraries.\n",
      "Populating the interactive namespace from numpy and matplotlib\n"
     ]
    },
    {
     "data": {
      "text/html": [
       "<style>.container { width:100% !important; }</style>"
      ],
      "text/plain": [
       "<IPython.core.display.HTML object>"
      ]
     },
     "metadata": {},
     "output_type": "display_data"
    }
   ],
   "source": [
    "\n",
    "\n",
    "def jupyter_settings():\n",
    "    %matplotlib inline\n",
    "    %pylab inline\n",
    "    \n",
    "    plt.style.use( 'bmh' )\n",
    "    plt.rcParams['figure.figsize'] = [25, 12]\n",
    "    plt.rcParams['font.size'] = 24\n",
    "    \n",
    "    display( HTML( '<style>.container { width:100% !important; }</style>') )\n",
    "    pd.options.display.max_columns = None\n",
    "    pd.options.display.max_rows = None\n",
    "    pd.set_option( 'display.expand_frame_repr', False )\n",
    "    \n",
    "    sns.set()\n",
    "jupyter_settings()\n",
    "warnings.filterwarnings(\"ignore\")\n",
    "\n",
    "\n",
    "#Function to plot correlation of a column \n",
    "def plot_corr(col):\n",
    "    a = correlation[col].sort_values(ascending=False).to_frame()\n",
    "    a.columns = ['']\n",
    "    a.drop(col, axis=0, inplace=True)\n",
    "    plot = sns.heatmap( a, annot=True, cmap='Greens').set_title(col);\n",
    "    \n",
    "    return plot\n",
    "\n",
    "# cramer V function to calculate correlation btw categorical variables\n",
    "def cramer_v(x, y):\n",
    "    # Confusion Matrix\n",
    "    cm = pd.crosstab(x, y).values\n",
    "    n = cm.sum()\n",
    "    r, k = cm.shape\n",
    "    \n",
    "    chi2 = chi2_contingency(cm)[0]\n",
    "    \n",
    "    chi2corr = max(0, chi2 - (k-1)*(r-1)/(n-1))\n",
    "    kcorr = k - (k-1)**2/(n-1)\n",
    "    rcorr = r - (r-1)**2/(n-1)\n",
    "    \n",
    "    return np.sqrt((chi2corr/n) / (min(kcorr-1, rcorr-1)))\n"
   ]
  },
  {
   "cell_type": "markdown",
   "id": "8cb81d4e",
   "metadata": {},
   "source": [
    "##  Get Data from Database"
   ]
  },
  {
   "cell_type": "markdown",
   "id": "55a8c328",
   "metadata": {},
   "source": [
    "##  Load dataset"
   ]
  },
  {
   "cell_type": "code",
   "execution_count": 44,
   "id": "f6597c41",
   "metadata": {
    "ExecuteTime": {
     "end_time": "2021-08-09T22:52:13.506007Z",
     "start_time": "2021-08-09T22:52:13.494041Z"
    }
   },
   "outputs": [
    {
     "data": {
      "text/html": [
       "<div>\n",
       "<style scoped>\n",
       "    .dataframe tbody tr th:only-of-type {\n",
       "        vertical-align: middle;\n",
       "    }\n",
       "\n",
       "    .dataframe tbody tr th {\n",
       "        vertical-align: top;\n",
       "    }\n",
       "\n",
       "    .dataframe thead th {\n",
       "        text-align: right;\n",
       "    }\n",
       "</style>\n",
       "<table border=\"1\" class=\"dataframe\">\n",
       "  <thead>\n",
       "    <tr style=\"text-align: right;\">\n",
       "      <th></th>\n",
       "      <th>RowNumber</th>\n",
       "      <th>CustomerId</th>\n",
       "      <th>Surname</th>\n",
       "      <th>CreditScore</th>\n",
       "      <th>Geography</th>\n",
       "      <th>Gender</th>\n",
       "      <th>Age</th>\n",
       "      <th>Tenure</th>\n",
       "      <th>Balance</th>\n",
       "      <th>NumOfProducts</th>\n",
       "      <th>HasCrCard</th>\n",
       "      <th>IsActiveMember</th>\n",
       "      <th>EstimatedSalary</th>\n",
       "      <th>Exited</th>\n",
       "    </tr>\n",
       "  </thead>\n",
       "  <tbody>\n",
       "    <tr>\n",
       "      <th>0</th>\n",
       "      <td>1</td>\n",
       "      <td>15634602</td>\n",
       "      <td>Hargrave</td>\n",
       "      <td>619</td>\n",
       "      <td>France</td>\n",
       "      <td>Female</td>\n",
       "      <td>42</td>\n",
       "      <td>2</td>\n",
       "      <td>0.00</td>\n",
       "      <td>1</td>\n",
       "      <td>1</td>\n",
       "      <td>1</td>\n",
       "      <td>101348.88</td>\n",
       "      <td>1</td>\n",
       "    </tr>\n",
       "    <tr>\n",
       "      <th>1</th>\n",
       "      <td>2</td>\n",
       "      <td>15647311</td>\n",
       "      <td>Hill</td>\n",
       "      <td>608</td>\n",
       "      <td>Spain</td>\n",
       "      <td>Female</td>\n",
       "      <td>41</td>\n",
       "      <td>1</td>\n",
       "      <td>83807.86</td>\n",
       "      <td>1</td>\n",
       "      <td>0</td>\n",
       "      <td>1</td>\n",
       "      <td>112542.58</td>\n",
       "      <td>0</td>\n",
       "    </tr>\n",
       "    <tr>\n",
       "      <th>2</th>\n",
       "      <td>3</td>\n",
       "      <td>15619304</td>\n",
       "      <td>Onio</td>\n",
       "      <td>502</td>\n",
       "      <td>France</td>\n",
       "      <td>Female</td>\n",
       "      <td>42</td>\n",
       "      <td>8</td>\n",
       "      <td>159660.80</td>\n",
       "      <td>3</td>\n",
       "      <td>1</td>\n",
       "      <td>0</td>\n",
       "      <td>113931.57</td>\n",
       "      <td>1</td>\n",
       "    </tr>\n",
       "    <tr>\n",
       "      <th>3</th>\n",
       "      <td>4</td>\n",
       "      <td>15701354</td>\n",
       "      <td>Boni</td>\n",
       "      <td>699</td>\n",
       "      <td>France</td>\n",
       "      <td>Female</td>\n",
       "      <td>39</td>\n",
       "      <td>1</td>\n",
       "      <td>0.00</td>\n",
       "      <td>2</td>\n",
       "      <td>0</td>\n",
       "      <td>0</td>\n",
       "      <td>93826.63</td>\n",
       "      <td>0</td>\n",
       "    </tr>\n",
       "    <tr>\n",
       "      <th>4</th>\n",
       "      <td>5</td>\n",
       "      <td>15737888</td>\n",
       "      <td>Mitchell</td>\n",
       "      <td>850</td>\n",
       "      <td>Spain</td>\n",
       "      <td>Female</td>\n",
       "      <td>43</td>\n",
       "      <td>2</td>\n",
       "      <td>125510.82</td>\n",
       "      <td>1</td>\n",
       "      <td>1</td>\n",
       "      <td>1</td>\n",
       "      <td>79084.10</td>\n",
       "      <td>0</td>\n",
       "    </tr>\n",
       "  </tbody>\n",
       "</table>\n",
       "</div>"
      ],
      "text/plain": [
       "   RowNumber  CustomerId   Surname  CreditScore Geography  Gender  Age  Tenure    Balance  NumOfProducts  HasCrCard  IsActiveMember  EstimatedSalary  Exited\n",
       "0          1    15634602  Hargrave          619    France  Female   42       2       0.00              1          1               1        101348.88       1\n",
       "1          2    15647311      Hill          608     Spain  Female   41       1   83807.86              1          0               1        112542.58       0\n",
       "2          3    15619304      Onio          502    France  Female   42       8  159660.80              3          1               0        113931.57       1\n",
       "3          4    15701354      Boni          699    France  Female   39       1       0.00              2          0               0         93826.63       0\n",
       "4          5    15737888  Mitchell          850     Spain  Female   43       2  125510.82              1          1               1         79084.10       0"
      ]
     },
     "execution_count": 44,
     "metadata": {},
     "output_type": "execute_result"
    }
   ],
   "source": [
    "df_raw=pd.read_csv('/home/tc0019/DS/topbottom/churn.csv')\n",
    "df_raw.head()"
   ]
  },
  {
   "cell_type": "markdown",
   "id": "bcd22037",
   "metadata": {
    "heading_collapsed": true
   },
   "source": [
    "#  1.0 DESCRICAO DOS DADOS"
   ]
  },
  {
   "cell_type": "code",
   "execution_count": 45,
   "id": "da12c649",
   "metadata": {
    "ExecuteTime": {
     "end_time": "2021-08-09T16:54:19.953439Z",
     "start_time": "2021-08-09T16:54:19.924045Z"
    },
    "hidden": true
   },
   "outputs": [],
   "source": [
    "df1=df_raw.copy()"
   ]
  },
  {
   "cell_type": "markdown",
   "id": "391caa14",
   "metadata": {
    "ExecuteTime": {
     "end_time": "2019-11-10T11:26:41.736121Z",
     "start_time": "2019-11-10T11:26:41.732986Z"
    },
    "hidden": true
   },
   "source": [
    "## 1.1. Rename Columns\n",
    "\n",
    "All columns will be renamed to snake case: https://en.wikipedia.org/wiki/Snake_case.\n",
    "\n",
    "The main objective is create a columns name pattern to make simple dealing with the dataset."
   ]
  },
  {
   "cell_type": "code",
   "execution_count": 46,
   "id": "61d76934",
   "metadata": {
    "ExecuteTime": {
     "end_time": "2021-08-09T16:54:19.983358Z",
     "start_time": "2021-08-09T16:54:19.964410Z"
    },
    "hidden": true
   },
   "outputs": [
    {
     "data": {
      "text/plain": [
       "Index(['RowNumber', 'CustomerId', 'Surname', 'CreditScore', 'Geography',\n",
       "       'Gender', 'Age', 'Tenure', 'Balance', 'NumOfProducts', 'HasCrCard',\n",
       "       'IsActiveMember', 'EstimatedSalary', 'Exited'],\n",
       "      dtype='object')"
      ]
     },
     "execution_count": 46,
     "metadata": {},
     "output_type": "execute_result"
    }
   ],
   "source": [
    "df1.columns"
   ]
  },
  {
   "cell_type": "code",
   "execution_count": 47,
   "metadata": {},
   "outputs": [],
   "source": [
    "cols_old=['RowNumber', 'CustomerId', 'Surname', 'CreditScore', 'Geography',\n",
    "       'Gender', 'Age', 'Tenure', 'Balance', 'NumOfProducts', 'HasCrCard',\n",
    "       'IsActiveMember', 'EstimatedSalary', 'Exited']\n",
    "\n",
    "snakecase = lambda x: inflection.underscore(x)\n",
    "cols_new = list(map(snakecase, cols_old))\n",
    "\n",
    "df1.columns = cols_new"
   ]
  },
  {
   "cell_type": "markdown",
   "id": "a752cee0",
   "metadata": {
    "ExecuteTime": {
     "end_time": "2019-11-10T11:26:41.736121Z",
     "start_time": "2019-11-10T11:26:41.732986Z"
    },
    "hidden": true
   },
   "source": [
    "## 1.2. Data Dimensions"
   ]
  },
  {
   "cell_type": "code",
   "execution_count": 48,
   "id": "061bf434",
   "metadata": {
    "ExecuteTime": {
     "end_time": "2021-08-09T16:54:19.998318Z",
     "start_time": "2021-08-09T16:54:19.988345Z"
    },
    "hidden": true
   },
   "outputs": [
    {
     "name": "stdout",
     "output_type": "stream",
     "text": [
      "Number of Rows: 10000\n",
      "Number of Columns: 14\n"
     ]
    }
   ],
   "source": [
    "print( f'Number of Rows: {df1.shape[0]}')\n",
    "print( f'Number of Columns: {df1.shape[1]}')"
   ]
  },
  {
   "cell_type": "markdown",
   "id": "ec5661d3",
   "metadata": {
    "ExecuteTime": {
     "end_time": "2019-11-10T11:26:41.736121Z",
     "start_time": "2019-11-10T11:26:41.732986Z"
    },
    "hidden": true
   },
   "source": [
    "## 1.3. Data Types"
   ]
  },
  {
   "cell_type": "code",
   "execution_count": 49,
   "id": "4e92205c",
   "metadata": {
    "ExecuteTime": {
     "end_time": "2021-08-09T16:54:20.029237Z",
     "start_time": "2021-08-09T16:54:20.002307Z"
    },
    "hidden": true
   },
   "outputs": [
    {
     "data": {
      "text/plain": [
       "row_number            int64\n",
       "customer_id           int64\n",
       "surname              object\n",
       "credit_score          int64\n",
       "geography            object\n",
       "gender               object\n",
       "age                   int64\n",
       "tenure                int64\n",
       "balance             float64\n",
       "num_of_products       int64\n",
       "has_cr_card           int64\n",
       "is_active_member      int64\n",
       "estimated_salary    float64\n",
       "exited                int64\n",
       "dtype: object"
      ]
     },
     "execution_count": 49,
     "metadata": {},
     "output_type": "execute_result"
    }
   ],
   "source": [
    "df1.dtypes"
   ]
  },
  {
   "cell_type": "code",
   "execution_count": 50,
   "metadata": {},
   "outputs": [
    {
     "data": {
      "text/html": [
       "<div>\n",
       "<style scoped>\n",
       "    .dataframe tbody tr th:only-of-type {\n",
       "        vertical-align: middle;\n",
       "    }\n",
       "\n",
       "    .dataframe tbody tr th {\n",
       "        vertical-align: top;\n",
       "    }\n",
       "\n",
       "    .dataframe thead th {\n",
       "        text-align: right;\n",
       "    }\n",
       "</style>\n",
       "<table border=\"1\" class=\"dataframe\">\n",
       "  <thead>\n",
       "    <tr style=\"text-align: right;\">\n",
       "      <th></th>\n",
       "      <th>row_number</th>\n",
       "      <th>customer_id</th>\n",
       "      <th>surname</th>\n",
       "      <th>credit_score</th>\n",
       "      <th>geography</th>\n",
       "      <th>gender</th>\n",
       "      <th>age</th>\n",
       "      <th>tenure</th>\n",
       "      <th>balance</th>\n",
       "      <th>num_of_products</th>\n",
       "      <th>has_cr_card</th>\n",
       "      <th>is_active_member</th>\n",
       "      <th>estimated_salary</th>\n",
       "      <th>exited</th>\n",
       "    </tr>\n",
       "  </thead>\n",
       "  <tbody>\n",
       "    <tr>\n",
       "      <th>9995</th>\n",
       "      <td>9996</td>\n",
       "      <td>15606229</td>\n",
       "      <td>Obijiaku</td>\n",
       "      <td>771</td>\n",
       "      <td>France</td>\n",
       "      <td>Male</td>\n",
       "      <td>39</td>\n",
       "      <td>5</td>\n",
       "      <td>0.00</td>\n",
       "      <td>2</td>\n",
       "      <td>1</td>\n",
       "      <td>0</td>\n",
       "      <td>96270.64</td>\n",
       "      <td>0</td>\n",
       "    </tr>\n",
       "    <tr>\n",
       "      <th>9996</th>\n",
       "      <td>9997</td>\n",
       "      <td>15569892</td>\n",
       "      <td>Johnstone</td>\n",
       "      <td>516</td>\n",
       "      <td>France</td>\n",
       "      <td>Male</td>\n",
       "      <td>35</td>\n",
       "      <td>10</td>\n",
       "      <td>57369.61</td>\n",
       "      <td>1</td>\n",
       "      <td>1</td>\n",
       "      <td>1</td>\n",
       "      <td>101699.77</td>\n",
       "      <td>0</td>\n",
       "    </tr>\n",
       "    <tr>\n",
       "      <th>9997</th>\n",
       "      <td>9998</td>\n",
       "      <td>15584532</td>\n",
       "      <td>Liu</td>\n",
       "      <td>709</td>\n",
       "      <td>France</td>\n",
       "      <td>Female</td>\n",
       "      <td>36</td>\n",
       "      <td>7</td>\n",
       "      <td>0.00</td>\n",
       "      <td>1</td>\n",
       "      <td>0</td>\n",
       "      <td>1</td>\n",
       "      <td>42085.58</td>\n",
       "      <td>1</td>\n",
       "    </tr>\n",
       "    <tr>\n",
       "      <th>9998</th>\n",
       "      <td>9999</td>\n",
       "      <td>15682355</td>\n",
       "      <td>Sabbatini</td>\n",
       "      <td>772</td>\n",
       "      <td>Germany</td>\n",
       "      <td>Male</td>\n",
       "      <td>42</td>\n",
       "      <td>3</td>\n",
       "      <td>75075.31</td>\n",
       "      <td>2</td>\n",
       "      <td>1</td>\n",
       "      <td>0</td>\n",
       "      <td>92888.52</td>\n",
       "      <td>1</td>\n",
       "    </tr>\n",
       "    <tr>\n",
       "      <th>9999</th>\n",
       "      <td>10000</td>\n",
       "      <td>15628319</td>\n",
       "      <td>Walker</td>\n",
       "      <td>792</td>\n",
       "      <td>France</td>\n",
       "      <td>Female</td>\n",
       "      <td>28</td>\n",
       "      <td>4</td>\n",
       "      <td>130142.79</td>\n",
       "      <td>1</td>\n",
       "      <td>1</td>\n",
       "      <td>0</td>\n",
       "      <td>38190.78</td>\n",
       "      <td>0</td>\n",
       "    </tr>\n",
       "  </tbody>\n",
       "</table>\n",
       "</div>"
      ],
      "text/plain": [
       "      row_number  customer_id    surname  credit_score geography  gender  age  tenure    balance  num_of_products  has_cr_card  is_active_member  estimated_salary  exited\n",
       "9995        9996     15606229   Obijiaku           771    France    Male   39       5       0.00                2            1                 0          96270.64       0\n",
       "9996        9997     15569892  Johnstone           516    France    Male   35      10   57369.61                1            1                 1         101699.77       0\n",
       "9997        9998     15584532        Liu           709    France  Female   36       7       0.00                1            0                 1          42085.58       1\n",
       "9998        9999     15682355  Sabbatini           772   Germany    Male   42       3   75075.31                2            1                 0          92888.52       1\n",
       "9999       10000     15628319     Walker           792    France  Female   28       4  130142.79                1            1                 0          38190.78       0"
      ]
     },
     "execution_count": 50,
     "metadata": {},
     "output_type": "execute_result"
    }
   ],
   "source": [
    "df1.tail()"
   ]
  },
  {
   "cell_type": "markdown",
   "id": "62a84d97",
   "metadata": {
    "ExecuteTime": {
     "end_time": "2019-11-10T11:26:41.736121Z",
     "start_time": "2019-11-10T11:26:41.732986Z"
    },
    "hidden": true
   },
   "source": [
    "## 1.4. Check NA\n",
    "\n",
    " The dataset has no occurrence of NAs"
   ]
  },
  {
   "cell_type": "code",
   "execution_count": 51,
   "id": "b8e5bed5",
   "metadata": {
    "ExecuteTime": {
     "end_time": "2021-08-09T16:54:20.199779Z",
     "start_time": "2021-08-09T16:54:20.033225Z"
    },
    "hidden": true
   },
   "outputs": [
    {
     "data": {
      "text/plain": [
       "row_number          0\n",
       "customer_id         0\n",
       "surname             0\n",
       "credit_score        0\n",
       "geography           0\n",
       "gender              0\n",
       "age                 0\n",
       "tenure              0\n",
       "balance             0\n",
       "num_of_products     0\n",
       "has_cr_card         0\n",
       "is_active_member    0\n",
       "estimated_salary    0\n",
       "exited              0\n",
       "dtype: int64"
      ]
     },
     "execution_count": 51,
     "metadata": {},
     "output_type": "execute_result"
    }
   ],
   "source": [
    "df1.isna().sum()"
   ]
  },
  {
   "cell_type": "markdown",
   "id": "f73ccbe3",
   "metadata": {
    "ExecuteTime": {
     "end_time": "2019-11-10T11:26:41.736121Z",
     "start_time": "2019-11-10T11:26:41.732986Z"
    },
    "hidden": true
   },
   "source": [
    "## 1.5. Descriptive Statistics"
   ]
  },
  {
   "cell_type": "code",
   "execution_count": 52,
   "id": "342e7750",
   "metadata": {
    "ExecuteTime": {
     "end_time": "2021-08-09T16:54:20.262611Z",
     "start_time": "2021-08-09T16:54:20.202772Z"
    },
    "hidden": true
   },
   "outputs": [],
   "source": [
    "df1_num=df1.select_dtypes(include=['int64', 'float64'])\n",
    "df1_cat=df1.select_dtypes(exclude=['int64', 'float64', 'datetime'])"
   ]
  },
  {
   "cell_type": "markdown",
   "id": "dcca40cb",
   "metadata": {
    "ExecuteTime": {
     "end_time": "2019-11-10T11:26:41.736121Z",
     "start_time": "2019-11-10T11:26:41.732986Z"
    },
    "hidden": true
   },
   "source": [
    "### 1.5.1. Numerical Atributes"
   ]
  },
  {
   "cell_type": "code",
   "execution_count": 53,
   "id": "73a1615c",
   "metadata": {
    "ExecuteTime": {
     "end_time": "2021-08-09T16:54:21.864706Z",
     "start_time": "2021-08-09T16:54:20.265604Z"
    },
    "hidden": true
   },
   "outputs": [
    {
     "data": {
      "text/html": [
       "<div>\n",
       "<style scoped>\n",
       "    .dataframe tbody tr th:only-of-type {\n",
       "        vertical-align: middle;\n",
       "    }\n",
       "\n",
       "    .dataframe tbody tr th {\n",
       "        vertical-align: top;\n",
       "    }\n",
       "\n",
       "    .dataframe thead th {\n",
       "        text-align: right;\n",
       "    }\n",
       "</style>\n",
       "<table border=\"1\" class=\"dataframe\">\n",
       "  <thead>\n",
       "    <tr style=\"text-align: right;\">\n",
       "      <th></th>\n",
       "      <th>min</th>\n",
       "      <th>max</th>\n",
       "      <th>range</th>\n",
       "      <th>mean</th>\n",
       "      <th>median</th>\n",
       "      <th>std</th>\n",
       "      <th>skew</th>\n",
       "      <th>kurtosis</th>\n",
       "      <th>shapiro</th>\n",
       "    </tr>\n",
       "  </thead>\n",
       "  <tbody>\n",
       "    <tr>\n",
       "      <th>row_number</th>\n",
       "      <td>1.0</td>\n",
       "      <td>10000.0</td>\n",
       "      <td>9999.0</td>\n",
       "      <td>5000.5</td>\n",
       "      <td>5000.5</td>\n",
       "      <td>2886.751332</td>\n",
       "      <td>0.0</td>\n",
       "      <td>-1.2</td>\n",
       "      <td>not normal</td>\n",
       "    </tr>\n",
       "    <tr>\n",
       "      <th>customer_id</th>\n",
       "      <td>15565701.0</td>\n",
       "      <td>15815690.0</td>\n",
       "      <td>249989.0</td>\n",
       "      <td>15690940.5694</td>\n",
       "      <td>15690738.0</td>\n",
       "      <td>71932.589224</td>\n",
       "      <td>0.001149</td>\n",
       "      <td>-1.196113</td>\n",
       "      <td>not normal</td>\n",
       "    </tr>\n",
       "    <tr>\n",
       "      <th>credit_score</th>\n",
       "      <td>350.0</td>\n",
       "      <td>850.0</td>\n",
       "      <td>500.0</td>\n",
       "      <td>650.5288</td>\n",
       "      <td>652.0</td>\n",
       "      <td>96.648466</td>\n",
       "      <td>-0.071607</td>\n",
       "      <td>-0.425726</td>\n",
       "      <td>not normal</td>\n",
       "    </tr>\n",
       "    <tr>\n",
       "      <th>age</th>\n",
       "      <td>18.0</td>\n",
       "      <td>92.0</td>\n",
       "      <td>74.0</td>\n",
       "      <td>38.9218</td>\n",
       "      <td>37.0</td>\n",
       "      <td>10.487282</td>\n",
       "      <td>1.01132</td>\n",
       "      <td>1.395347</td>\n",
       "      <td>not normal</td>\n",
       "    </tr>\n",
       "    <tr>\n",
       "      <th>tenure</th>\n",
       "      <td>0.0</td>\n",
       "      <td>10.0</td>\n",
       "      <td>10.0</td>\n",
       "      <td>5.0128</td>\n",
       "      <td>5.0</td>\n",
       "      <td>2.89203</td>\n",
       "      <td>0.010991</td>\n",
       "      <td>-1.165225</td>\n",
       "      <td>not normal</td>\n",
       "    </tr>\n",
       "    <tr>\n",
       "      <th>balance</th>\n",
       "      <td>0.0</td>\n",
       "      <td>250898.09</td>\n",
       "      <td>250898.09</td>\n",
       "      <td>76485.889288</td>\n",
       "      <td>97198.54</td>\n",
       "      <td>62394.285254</td>\n",
       "      <td>-0.141109</td>\n",
       "      <td>-1.489412</td>\n",
       "      <td>not normal</td>\n",
       "    </tr>\n",
       "    <tr>\n",
       "      <th>num_of_products</th>\n",
       "      <td>1.0</td>\n",
       "      <td>4.0</td>\n",
       "      <td>3.0</td>\n",
       "      <td>1.5302</td>\n",
       "      <td>1.0</td>\n",
       "      <td>0.581625</td>\n",
       "      <td>0.745568</td>\n",
       "      <td>0.582981</td>\n",
       "      <td>not normal</td>\n",
       "    </tr>\n",
       "    <tr>\n",
       "      <th>has_cr_card</th>\n",
       "      <td>0.0</td>\n",
       "      <td>1.0</td>\n",
       "      <td>1.0</td>\n",
       "      <td>0.7055</td>\n",
       "      <td>1.0</td>\n",
       "      <td>0.455818</td>\n",
       "      <td>-0.901812</td>\n",
       "      <td>-1.186973</td>\n",
       "      <td>not normal</td>\n",
       "    </tr>\n",
       "    <tr>\n",
       "      <th>is_active_member</th>\n",
       "      <td>0.0</td>\n",
       "      <td>1.0</td>\n",
       "      <td>1.0</td>\n",
       "      <td>0.5151</td>\n",
       "      <td>1.0</td>\n",
       "      <td>0.499772</td>\n",
       "      <td>-0.060437</td>\n",
       "      <td>-1.996747</td>\n",
       "      <td>not normal</td>\n",
       "    </tr>\n",
       "    <tr>\n",
       "      <th>estimated_salary</th>\n",
       "      <td>11.58</td>\n",
       "      <td>199992.48</td>\n",
       "      <td>199980.9</td>\n",
       "      <td>100090.239881</td>\n",
       "      <td>100193.915</td>\n",
       "      <td>57507.617221</td>\n",
       "      <td>0.002085</td>\n",
       "      <td>-1.181518</td>\n",
       "      <td>not normal</td>\n",
       "    </tr>\n",
       "    <tr>\n",
       "      <th>exited</th>\n",
       "      <td>0.0</td>\n",
       "      <td>1.0</td>\n",
       "      <td>1.0</td>\n",
       "      <td>0.2037</td>\n",
       "      <td>0.0</td>\n",
       "      <td>0.402748</td>\n",
       "      <td>1.471611</td>\n",
       "      <td>0.165671</td>\n",
       "      <td>not normal</td>\n",
       "    </tr>\n",
       "  </tbody>\n",
       "</table>\n",
       "</div>"
      ],
      "text/plain": [
       "                         min         max      range           mean      median           std      skew  kurtosis     shapiro\n",
       "row_number               1.0     10000.0     9999.0         5000.5      5000.5   2886.751332       0.0      -1.2  not normal\n",
       "customer_id       15565701.0  15815690.0   249989.0  15690940.5694  15690738.0  71932.589224  0.001149 -1.196113  not normal\n",
       "credit_score           350.0       850.0      500.0       650.5288       652.0     96.648466 -0.071607 -0.425726  not normal\n",
       "age                     18.0        92.0       74.0        38.9218        37.0     10.487282   1.01132  1.395347  not normal\n",
       "tenure                   0.0        10.0       10.0         5.0128         5.0       2.89203  0.010991 -1.165225  not normal\n",
       "balance                  0.0   250898.09  250898.09   76485.889288    97198.54  62394.285254 -0.141109 -1.489412  not normal\n",
       "num_of_products          1.0         4.0        3.0         1.5302         1.0      0.581625  0.745568  0.582981  not normal\n",
       "has_cr_card              0.0         1.0        1.0         0.7055         1.0      0.455818 -0.901812 -1.186973  not normal\n",
       "is_active_member         0.0         1.0        1.0         0.5151         1.0      0.499772 -0.060437 -1.996747  not normal\n",
       "estimated_salary       11.58   199992.48   199980.9  100090.239881  100193.915  57507.617221  0.002085 -1.181518  not normal\n",
       "exited                   0.0         1.0        1.0         0.2037         0.0      0.402748  1.471611  0.165671  not normal"
      ]
     },
     "execution_count": 53,
     "metadata": {},
     "output_type": "execute_result"
    }
   ],
   "source": [
    "# Central Tendency - mean, meadina\n",
    "ct1= pd.DataFrame(df1_num.apply(np.mean)).T\n",
    "ct2= pd.DataFrame(df1_num.apply(np.median)).T\n",
    "\n",
    "# dispersion - std, min, max, range, skew, kurtosis\n",
    "ct3= pd.DataFrame(df1_num.apply(np.std)).T\n",
    "ct4= pd.DataFrame(df1_num.apply(min)).T\n",
    "ct5= pd.DataFrame(df1_num.apply(max)).T\n",
    "ct6= pd.DataFrame(df1_num.apply(lambda x: x.max() - x.min())).T\n",
    "ct7= pd.DataFrame(df1_num.apply(lambda x: x.skew())).T\n",
    "ct8= pd.DataFrame(df1_num.apply(lambda x: x.kurtosis())).T\n",
    "ct9 = pd.DataFrame(df1_num.apply(lambda x: 'not normal' if shapiro(x.sample(5000))[1] < 0.05 else 'normal')).T\n",
    "\n",
    "\n",
    "# concatenar\n",
    "df_statistics= pd.concat([ct4, ct5, ct6, ct1, ct2,ct3, ct7, ct8, ct9]).T\n",
    "df_statistics.columns=['min', 'max', 'range', 'mean', 'median', 'std', 'skew', 'kurtosis', 'shapiro']\n",
    "df_statistics.round(2)"
   ]
  },
  {
   "cell_type": "markdown",
   "metadata": {},
   "source": [
    "**Relavants Observations:**\n",
    "\n",
    "**credit_score** may be better work in a categorical way to group people in classes\n",
    "\n",
    "**estimated_salary** will be considered as annual salary, the value 11.50 must be checked it may be an input error.\n",
    "\n",
    "**none** of the features have normal distribution"
   ]
  },
  {
   "cell_type": "markdown",
   "metadata": {},
   "source": [
    "### 1.5.2 Categorical Attributes\n",
    "\n",
    "**Gender** do not show to be a significant attribute to consider churn\n",
    "\n",
    "**Geography** has similar churn, nothing seems to extrapolate due geo."
   ]
  },
  {
   "cell_type": "code",
   "execution_count": 54,
   "metadata": {},
   "outputs": [
    {
     "data": {
      "image/png": "[encoded data removed]",
      "text/plain": [
       "<Figure size 1800x864 with 2 Axes>"
      ]
     },
     "metadata": {},
     "output_type": "display_data"
    }
   ],
   "source": [
    "plt.subplot(1,2,1)\n",
    "sns.countplot(x='geography', hue='exited', data=df1).set_title('Geography X Exited', fontsize=20);\n",
    "\n",
    "plt.subplot(1,2,2)\n",
    "sns.countplot(x='gender', hue='exited', data=df1).set_title('Gender X Exited', fontsize=20);\n",
    "\n"
   ]
  },
  {
   "cell_type": "markdown",
   "metadata": {},
   "source": [
    "### 1.5.3 Target Variable\n",
    "\n",
    "The dataset is unbalanced. Smote Tomek may be used here."
   ]
  },
  {
   "cell_type": "code",
   "execution_count": 55,
   "metadata": {},
   "outputs": [
    {
     "data": {
      "image/png": "[encoded data removed]",
      "text/plain": [
       "<Figure size 1800x864 with 1 Axes>"
      ]
     },
     "metadata": {},
     "output_type": "display_data"
    }
   ],
   "source": [
    "sns.countplot(x='exited', data=df1).set_title('Checking how unbalanced the dataset is', fontsize=20);"
   ]
  },
  {
   "cell_type": "markdown",
   "id": "07411f79",
   "metadata": {
    "ExecuteTime": {
     "end_time": "2021-06-27T23:11:51.763676Z",
     "start_time": "2021-06-27T23:11:51.569419Z"
    },
    "heading_collapsed": true
   },
   "source": [
    "# 2.0 FEATURE ENGINEERING"
   ]
  },
  {
   "cell_type": "code",
   "execution_count": 56,
   "id": "fb4828d6",
   "metadata": {
    "ExecuteTime": {
     "end_time": "2021-08-09T16:54:21.898769Z",
     "start_time": "2021-08-09T16:54:21.867700Z"
    },
    "hidden": true
   },
   "outputs": [],
   "source": [
    "df2 = df1.copy()"
   ]
  },
  {
   "cell_type": "markdown",
   "id": "8cd3ef7d",
   "metadata": {
    "hidden": true
   },
   "source": [
    "## 2.1 Hypothesis Mental Map"
   ]
  },
  {
   "cell_type": "markdown",
   "id": "1bd20828",
   "metadata": {
    "hidden": true
   },
   "source": [
    "###  2.1.1 Hypotheses List"
   ]
  },
  {
   "cell_type": "markdown",
   "metadata": {},
   "source": [
    "1. Os usuarios com score maior que 800 tem mais dinheiro em media. \n",
    "2. A espanha possue o maior numero de cartoes de credito da base de dados.\n",
    "3. O publico feminino possui o score maior do que o masculino. \n",
    "4. Homens possuem mais dinheiro do que mulheres no banco.\n",
    "5. O salario estimados das mulherem em media eh maior do que dos homens.\n",
    "6. Pessoas que moram na alemanha em media sao mais ativos que os demais.\n",
    "7. Os clientes com cadastro ativo sao maioria mulheres. \n",
    "8. Os clientes com maior numero de tenure comprados sao os que tem o menor salario estiamdo.\n",
    "9. Pessoas que possuem cartao sao mais ativas do que as que nao possuem mais.\n",
    "10. Salarios acima de 80k permanecem em media 3 anos.\n",
    "11. Os alemaes possuem o maior salario da base.\n",
    "12. Pessoas com balancos superior a 70k sao menos propensas ao churn.\n",
    "13. Pessoas com score superior a 780 nao deixam a empresa.\n",
    "14. Pessoas da franca entram sao mais propensos a entrar em churn do que as demais.\n",
    "15. Homens entram em churn mais do que mulheres.\n",
    "16. Pessoas acima dos 35 sao mais propensas a sairem da empresa.\n",
    "17. Homens acima 40 anos e sem atividade no site sao mais propensos ao churn.\n",
    "18. Mulheres abaixo dos 30 anos tem 70% de chance de NAO abandonar a empresa.\n",
    "19. Homens com 40 anos e sem atividade no site sao mais propensos ao churn.\n",
    "20. Mulheres com score acima dos 800 e balance acima de 80k tem 90% de NAO abandonar a empresa.\n",
    "21. Pessoas com tenure acima de 8 tem 60% de pessoas ativa no site.\n",
    "\n"
   ]
  },
  {
   "cell_type": "markdown",
   "id": "1bd20828",
   "metadata": {
    "hidden": true
   },
   "source": [
    "###  2.1.2 Hypotheses Final List"
   ]
  },
  {
   "cell_type": "markdown",
   "metadata": {},
   "source": [
    "1. Os usuarios com score maior que 800 em media tem mais dinheiro no banco.\n",
    "2. A espanha possue o maior numero de cartoes de credito da base de dados.\n",
    "3. O publico feminino possui o score maior do que o masculino. \n",
    "4. Homens possuem mais dinheiro do que mulheres no banco.\n",
    "5. O salario estimados das mulherem em media eh maior do que dos homens.\n",
    "6. Pessoas que moram na alemanha em media sao mais ativos que os demais.\n"
   ]
  },
  {
   "cell_type": "markdown",
   "metadata": {},
   "source": [
    "## 2.2 Feature Engineering"
   ]
  },
  {
   "cell_type": "code",
   "execution_count": 57,
   "metadata": {},
   "outputs": [
    {
     "data": {
      "text/html": [
       "<div>\n",
       "<style scoped>\n",
       "    .dataframe tbody tr th:only-of-type {\n",
       "        vertical-align: middle;\n",
       "    }\n",
       "\n",
       "    .dataframe tbody tr th {\n",
       "        vertical-align: top;\n",
       "    }\n",
       "\n",
       "    .dataframe thead th {\n",
       "        text-align: right;\n",
       "    }\n",
       "</style>\n",
       "<table border=\"1\" class=\"dataframe\">\n",
       "  <thead>\n",
       "    <tr style=\"text-align: right;\">\n",
       "      <th></th>\n",
       "      <th>row_number</th>\n",
       "      <th>customer_id</th>\n",
       "      <th>surname</th>\n",
       "      <th>credit_score</th>\n",
       "      <th>geography</th>\n",
       "      <th>gender</th>\n",
       "      <th>age</th>\n",
       "      <th>tenure</th>\n",
       "      <th>balance</th>\n",
       "      <th>num_of_products</th>\n",
       "      <th>has_cr_card</th>\n",
       "      <th>is_active_member</th>\n",
       "      <th>estimated_salary</th>\n",
       "      <th>exited</th>\n",
       "      <th>balance_by_age</th>\n",
       "      <th>num_of_prod_by_age</th>\n",
       "      <th>balance_by_num_of_prod</th>\n",
       "    </tr>\n",
       "  </thead>\n",
       "  <tbody>\n",
       "    <tr>\n",
       "      <th>0</th>\n",
       "      <td>1</td>\n",
       "      <td>15634602</td>\n",
       "      <td>Hargrave</td>\n",
       "      <td>619</td>\n",
       "      <td>France</td>\n",
       "      <td>Female</td>\n",
       "      <td>42</td>\n",
       "      <td>2</td>\n",
       "      <td>0.00</td>\n",
       "      <td>1</td>\n",
       "      <td>1</td>\n",
       "      <td>1</td>\n",
       "      <td>101348.88</td>\n",
       "      <td>1</td>\n",
       "      <td>0.000000</td>\n",
       "      <td>0.023810</td>\n",
       "      <td>0.000000</td>\n",
       "    </tr>\n",
       "    <tr>\n",
       "      <th>1</th>\n",
       "      <td>2</td>\n",
       "      <td>15647311</td>\n",
       "      <td>Hill</td>\n",
       "      <td>608</td>\n",
       "      <td>Spain</td>\n",
       "      <td>Female</td>\n",
       "      <td>41</td>\n",
       "      <td>1</td>\n",
       "      <td>83807.86</td>\n",
       "      <td>1</td>\n",
       "      <td>0</td>\n",
       "      <td>1</td>\n",
       "      <td>112542.58</td>\n",
       "      <td>0</td>\n",
       "      <td>2044.094146</td>\n",
       "      <td>0.024390</td>\n",
       "      <td>83807.860000</td>\n",
       "    </tr>\n",
       "    <tr>\n",
       "      <th>2</th>\n",
       "      <td>3</td>\n",
       "      <td>15619304</td>\n",
       "      <td>Onio</td>\n",
       "      <td>502</td>\n",
       "      <td>France</td>\n",
       "      <td>Female</td>\n",
       "      <td>42</td>\n",
       "      <td>8</td>\n",
       "      <td>159660.80</td>\n",
       "      <td>3</td>\n",
       "      <td>1</td>\n",
       "      <td>0</td>\n",
       "      <td>113931.57</td>\n",
       "      <td>1</td>\n",
       "      <td>3801.447619</td>\n",
       "      <td>0.071429</td>\n",
       "      <td>53220.266667</td>\n",
       "    </tr>\n",
       "    <tr>\n",
       "      <th>3</th>\n",
       "      <td>4</td>\n",
       "      <td>15701354</td>\n",
       "      <td>Boni</td>\n",
       "      <td>699</td>\n",
       "      <td>France</td>\n",
       "      <td>Female</td>\n",
       "      <td>39</td>\n",
       "      <td>1</td>\n",
       "      <td>0.00</td>\n",
       "      <td>2</td>\n",
       "      <td>0</td>\n",
       "      <td>0</td>\n",
       "      <td>93826.63</td>\n",
       "      <td>0</td>\n",
       "      <td>0.000000</td>\n",
       "      <td>0.051282</td>\n",
       "      <td>0.000000</td>\n",
       "    </tr>\n",
       "    <tr>\n",
       "      <th>4</th>\n",
       "      <td>5</td>\n",
       "      <td>15737888</td>\n",
       "      <td>Mitchell</td>\n",
       "      <td>850</td>\n",
       "      <td>Spain</td>\n",
       "      <td>Female</td>\n",
       "      <td>43</td>\n",
       "      <td>2</td>\n",
       "      <td>125510.82</td>\n",
       "      <td>1</td>\n",
       "      <td>1</td>\n",
       "      <td>1</td>\n",
       "      <td>79084.10</td>\n",
       "      <td>0</td>\n",
       "      <td>2918.856279</td>\n",
       "      <td>0.023256</td>\n",
       "      <td>125510.820000</td>\n",
       "    </tr>\n",
       "  </tbody>\n",
       "</table>\n",
       "</div>"
      ],
      "text/plain": [
       "   row_number  customer_id   surname  credit_score geography  gender  age  tenure    balance  num_of_products  has_cr_card  is_active_member  estimated_salary  exited  balance_by_age  num_of_prod_by_age  balance_by_num_of_prod\n",
       "0           1     15634602  Hargrave           619    France  Female   42       2       0.00                1            1                 1         101348.88       1        0.000000            0.023810                0.000000\n",
       "1           2     15647311      Hill           608     Spain  Female   41       1   83807.86                1            0                 1         112542.58       0     2044.094146            0.024390            83807.860000\n",
       "2           3     15619304      Onio           502    France  Female   42       8  159660.80                3            1                 0         113931.57       1     3801.447619            0.071429            53220.266667\n",
       "3           4     15701354      Boni           699    France  Female   39       1       0.00                2            0                 0          93826.63       0        0.000000            0.051282                0.000000\n",
       "4           5     15737888  Mitchell           850     Spain  Female   43       2  125510.82                1            1                 1          79084.10       0     2918.856279            0.023256           125510.820000"
      ]
     },
     "execution_count": 57,
     "metadata": {},
     "output_type": "execute_result"
    }
   ],
   "source": [
    "# df2['credit_score']=df2['credit_score'].apply(lambda x: 'poor' if x <=200 else\n",
    "#                                                         'fair' if x in range(201, 400) else\n",
    "#                                                         'good' if x in range(401, 600) else\n",
    "#                                                         'great' if x in range(601, 800)\n",
    "#                                                         else 'awesome'\n",
    "#                                                          )\n",
    "\n",
    "\n",
    "df2['balance_by_age']=df2['balance']/df2['age']\n",
    "df2['num_of_prod_by_age']=df2['num_of_products']/df2['age']\n",
    "df2['balance_by_num_of_prod']=df2['balance']/df2['num_of_products']\n",
    "\n",
    "df2.head()"
   ]
  }
 ],
 "metadata": {
  "interpreter": {
   "hash": "9deee2dbaab05987cdaebe7b960089971e10dbcbdab4b803f3571a74e8bc755d"
  },
  "kernelspec": {
   "display_name": "Python 3.9.7 ('base')",
   "language": "python",
   "name": "python3"
  },
  "language_info": {
   "codemirror_mode": {
    "name": "ipython",
    "version": 3
   },
   "file_extension": ".py",
   "mimetype": "text/x-python",
   "name": "python",
   "nbconvert_exporter": "python",
   "pygments_lexer": "ipython3",
   "version": "3.10.0"
  },
  "orig_nbformat": 4
 },
 "nbformat": 4,
 "nbformat_minor": 2
}
